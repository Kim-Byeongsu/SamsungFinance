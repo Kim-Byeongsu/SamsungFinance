{
 "cells": [
  {
   "cell_type": "code",
   "execution_count": 40,
   "metadata": {},
   "outputs": [],
   "source": [
    "import pandas as pd\n",
    "from pykrx import stock\n",
    "from pykrx import bond\n",
    "import FinanceDataReader as fdr "
   ]
  },
  {
   "cell_type": "code",
   "execution_count": 7,
   "metadata": {},
   "outputs": [],
   "source": [
    "import gspread\n",
    "from oauth2client.service_account import ServiceAccountCredentials\n",
    "\n",
    "scope = [\n",
    "'https://spreadsheets.google.com/feeds',\n",
    "'https://www.googleapis.com/auth/drive',\n",
    "]\n",
    "\n",
    "json_file_name = 'omega-tenure-341805-e2f94364a249.json'\n",
    "\n",
    "credentials = ServiceAccountCredentials.from_json_keyfile_name(json_file_name, scope)\n",
    "gc = gspread.authorize(credentials)\n",
    "\n",
    "#삼성전자\n",
    "spreadsheet_url = 'https://docs.google.com/spreadsheets/d/1Ws4AoSLvvlJs8ZOrN7lpF6Y1PWwrZUVssF71Awatmuw/edit#gid=448337019'\n",
    "\n",
    "# 스프레스시트 문서 가져오기 \n",
    "doc = gc.open_by_url(spreadsheet_url)\n",
    "\n",
    "# 시트 선택하기\n",
    "worksheet = doc.worksheet('df')"
   ]
  },
  {
   "cell_type": "markdown",
   "metadata": {},
   "source": [
    "삼성전자"
   ]
  },
  {
   "cell_type": "code",
   "execution_count": 21,
   "metadata": {},
   "outputs": [],
   "source": [
    "spreadsheet_url = 'https://docs.google.com/spreadsheets/d/1IBclG_tUnFOKIZE_Y46_4TkOzVmsFWf67DJyZVbS0Us/edit#gid=0'\n",
    "\n",
    "# 스프레스시트 문서 가져오기 \n",
    "doc = gc.open_by_url(spreadsheet_url)\n",
    "\n",
    "# 시트 선택하기\n",
    "worksheet_fund = doc.worksheet('시트1')"
   ]
  },
  {
   "cell_type": "code",
   "execution_count": 22,
   "metadata": {},
   "outputs": [],
   "source": [
    "df_fund = stock.get_market_fundamental(\"20200102\", \"20220529\", \"005930\")"
   ]
  },
  {
   "cell_type": "code",
   "execution_count": 23,
   "metadata": {},
   "outputs": [
    {
     "data": {
      "text/plain": [
       "{'spreadsheetId': '1IBclG_tUnFOKIZE_Y46_4TkOzVmsFWf67DJyZVbS0Us',\n",
       " 'updatedRange': \"'시트1'!A1:G596\",\n",
       " 'updatedRows': 596,\n",
       " 'updatedColumns': 7,\n",
       " 'updatedCells': 4172}"
      ]
     },
     "execution_count": 23,
     "metadata": {},
     "output_type": "execute_result"
    }
   ],
   "source": [
    "df_fund['Date'] = df_fund.index.values\n",
    "df_fund['Date'] = pd.to_datetime(df_fund['Date'], format=\"%m/%d/%Y\")\n",
    "df_fund['Date'] = df_fund['Date'].astype(str)\n",
    "df_fund['Date']\n",
    "worksheet_fund.update([df_fund.columns.values.tolist()] + df_fund.values.tolist())"
   ]
  },
  {
   "cell_type": "code",
   "execution_count": 24,
   "metadata": {},
   "outputs": [],
   "source": [
    "#LG 데이터와 SK 데이터 불러오기\n",
    "LG_fund = stock.get_market_fundamental(\"20200102\", \"20220529\", \"066570\")\n",
    "SK_fund = stock.get_market_fundamental(\"20200102\", \"20220529\", \"000660\")"
   ]
  },
  {
   "cell_type": "markdown",
   "metadata": {},
   "source": [
    "LG 데이터 덮어씌우기"
   ]
  },
  {
   "cell_type": "code",
   "execution_count": 25,
   "metadata": {},
   "outputs": [],
   "source": [
    "spreadsheet_url = 'https://docs.google.com/spreadsheets/d/1m32D0JHJ_dkHwdHj1jrkVqTiFljezLzVejhZQkvwGRA/edit#gid=0'\n",
    "\n",
    "# 스프레스시트 문서 가져오기 \n",
    "doc = gc.open_by_url(spreadsheet_url)\n",
    "\n",
    "# 시트 선택하기\n",
    "worksheet_fund = doc.worksheet('시트1')"
   ]
  },
  {
   "cell_type": "code",
   "execution_count": 26,
   "metadata": {},
   "outputs": [],
   "source": [
    "LG_fund['Date'] = LG_fund.index.values"
   ]
  },
  {
   "cell_type": "code",
   "execution_count": 27,
   "metadata": {},
   "outputs": [],
   "source": [
    "LG_fund['Date'] = pd.to_datetime(LG_fund['Date'], format=\"%m/%d/%Y\")"
   ]
  },
  {
   "cell_type": "code",
   "execution_count": 28,
   "metadata": {},
   "outputs": [],
   "source": [
    "LG_fund['Date'] = LG_fund['Date'].astype(str)"
   ]
  },
  {
   "cell_type": "code",
   "execution_count": 29,
   "metadata": {},
   "outputs": [
    {
     "data": {
      "text/plain": [
       "{'spreadsheetId': '1m32D0JHJ_dkHwdHj1jrkVqTiFljezLzVejhZQkvwGRA',\n",
       " 'updatedRange': \"'시트1'!A1:G596\",\n",
       " 'updatedRows': 596,\n",
       " 'updatedColumns': 7,\n",
       " 'updatedCells': 4172}"
      ]
     },
     "execution_count": 29,
     "metadata": {},
     "output_type": "execute_result"
    }
   ],
   "source": [
    "worksheet_fund.update([LG_fund.columns.values.tolist()] + LG_fund.values.tolist())"
   ]
  },
  {
   "cell_type": "markdown",
   "metadata": {},
   "source": [
    "감정 크롤링"
   ]
  },
  {
   "cell_type": "code",
   "execution_count": 69,
   "metadata": {},
   "outputs": [],
   "source": [
    "import selenium\n",
    "from selenium import webdriver\n",
    "from selenium.webdriver.common.keys import Keys\n",
    "from webdriver_manager.chrome import ChromeDriverManager\n",
    "import requests\n",
    "from bs4 import BeautifulSoup\n",
    "import re\n",
    "from konlpy.tag import Okt\n",
    "import random"
   ]
  },
  {
   "cell_type": "code",
   "execution_count": 77,
   "metadata": {},
   "outputs": [],
   "source": [
    "df = fdr.DataReader(symbol='005930', start=\"20200102\") # 삼성전자, 2020년~현재\n",
    "df.columns = ['시가', '상한가', '하한가', '종가', '거래량', '등락률']"
   ]
  },
  {
   "cell_type": "code",
   "execution_count": 87,
   "metadata": {},
   "outputs": [],
   "source": [
    "spreadsheet_url = 'https://docs.google.com/spreadsheets/d/1Ws4AoSLvvlJs8ZOrN7lpF6Y1PWwrZUVssF71Awatmuw/edit#gid=448337019'\n",
    "\n",
    "# 스프레스시트 문서 가져오기 \n",
    "doc = gc.open_by_url(spreadsheet_url)\n",
    "\n",
    "worksheet = doc.worksheet('df')\n",
    "df['Date'] = df.index.values\n",
    "df['Date'] = df['Date'].astype(str)"
   ]
  },
  {
   "cell_type": "code",
   "execution_count": 79,
   "metadata": {},
   "outputs": [],
   "source": [
    "low = [\"실패\", \"급락\", \"하락\", \"조롱\", \"비하\", \"공포\", \"멈춰\", \"애증\", \"폭락\", \"매수세\", \"중단\", \"거북이걸음\", \"샤오미\", \"사과\", \"조정\", \"요구\", \"부진하다\", \"이동\", \"포기\", \"코로나\", \"깨다\", \"우려\", \"부실\", \"불황\", \"적자\", \"불만\", \"철수\", \"전쟁\", \"낭패\", \"부진하다\", \"장주\", \"구속\", \"터지다\", \"수감\", \"구조\", \"굴욕\", \"그치다\", \"과징금\", \"주춤\", \"폐렴\", \"예판\", \"디스플레이\", \"자사주\"]\n",
    "up = [\"껑충\", \"반등\", \"대장\", \"추천주\", \"추격\", \"출시\", \"신제품\", \"양산\", \"집중\", \"차지\", \"공개\", \"성공\", \"투자\", \"가즈아\", \"최고\", \"격차\", \"간다\", \"다시\", \"에이스\", \"최고\", \"혁신\", \"흑자\", \"수출\", \"추진\", \"부족하다\", \"잇따르다\", \"생산\", \"공개\", \"가속\", \"적극\", \"대응\", \"나가다\", \"행진\", \"장밋빛\", \"탈락\", \"압박\", \"침몰\"]"
   ]
  },
  {
   "cell_type": "code",
   "execution_count": 64,
   "metadata": {},
   "outputs": [],
   "source": [
    "date_index = pd.DataFrame()"
   ]
  },
  {
   "cell_type": "code",
   "execution_count": 65,
   "metadata": {},
   "outputs": [],
   "source": [
    "date_index['Date'] = pd.to_datetime(df.index)\n",
    "years = date_index['Date'].dt.year\n",
    "months = date_index['Date'].dt.month\n",
    "days = date_index['Date'].dt.day"
   ]
  },
  {
   "cell_type": "code",
   "execution_count": 70,
   "metadata": {},
   "outputs": [],
   "source": [
    "okt = Okt()"
   ]
  },
  {
   "cell_type": "code",
   "execution_count": 71,
   "metadata": {},
   "outputs": [
    {
     "name": "stderr",
     "output_type": "stream",
     "text": [
      "\n",
      "\n",
      "====== WebDriver manager ======\n",
      "Current google-chrome version is 101.0.4951\n",
      "Get LATEST chromedriver version for 101.0.4951 google-chrome\n",
      "Driver [C:\\Users\\byeongsu\\.wdm\\drivers\\chromedriver\\win32\\101.0.4951.41\\chromedriver.exe] found in cache\n"
     ]
    }
   ],
   "source": [
    "import time\n",
    "result_contents = []\n",
    "driver = webdriver.Chrome(ChromeDriverManager().install())\n",
    "for depth in range(0,len(years)):\n",
    "    rand_value = random.randrange(1,3)\n",
    "    time.sleep(rand_value)\n",
    "    url = f\"https://www.google.com/search?q=삼성전자&biw=766&bih=741&sxsrf=APq-WBudo9b7nlfEOlDbyptJCTVYpqrq8A%3A1645011742667&source=lnt&tbs=cdr%3A1%2Ccd_min%3A{months[depth]}%2F{days[depth]}%2F{years[depth]}%2Ccd_max%3A{months[depth]}%2F{days[depth]}%2F{years[depth]}&tbm=nws\"\n",
    "    driver.get(url)\n",
    "    html = driver.page_source\n",
    "    soup = BeautifulSoup(html)\n",
    "    v_title = soup.select(\".mCBkyc.y355M.JQe2Ld.nDgy9d\")\n",
    "    for i in range(len(v_title)):\n",
    "        v_title[i] = v_title[i].text\n",
    "        v_title[i] = re.sub('[^0-9a-zA-Zㄱ-힗 ]', '', v_title[i])\n",
    "        v_title[i] = Okt().pos(v_title[i], norm=True, stem=True)\n",
    "        v_title[i] = [x for x, y in v_title[i] if y in ['Noun', 'Adjective', 'Verb']]\n",
    "        point = 0\n",
    "        percentile1 = len(v_title[i]) * (2/10)\n",
    "        percentile2 = len(v_title[i]) * (4/10)\n",
    "        percentile3 = len(v_title[i]) * (6/10)\n",
    "        percentile4 = len(v_title[i]) * (8/10)\n",
    "        for length in range(len(v_title[i])):\n",
    "            if v_title[i][length] in low:\n",
    "                if length <= percentile1:\n",
    "                    point -= 1\n",
    "                elif length < percentile2 and length > percentile1:\n",
    "                    point -= 3\n",
    "                elif length < percentile3 and length >= percentile2:\n",
    "                    point -= 5\n",
    "                elif length >= percentile3:\n",
    "                    point -= 10\n",
    "\n",
    "            if v_title[i][length] in up:\n",
    "                if length <= percentile1:\n",
    "                    point += 1\n",
    "                elif length < percentile2 and length > percentile1:\n",
    "                    point += 3\n",
    "                elif length < percentile3 and length >= percentile2:\n",
    "                    point += 5\n",
    "                elif length >= percentile3:\n",
    "                    point += 10\n",
    "        try:\n",
    "            v_title[i] = point / len(v_title[i])\n",
    "            sum_title = sum(v_title)\n",
    "        except:\n",
    "            sum_title = 0\n",
    "\n",
    "\n",
    "    v_content = soup.select(\".GI74Re.nDgy9d\")\n",
    "\n",
    "    for i in range(len(v_content)):\n",
    "        v_content[i] = v_content[i].text\n",
    "        v_content[i] = re.sub('[^0-9a-zA-Zㄱ-힗 ]', '', v_content[i])\n",
    "        v_content[i] = Okt().pos(v_content[i], norm=True, stem=True)\n",
    "        v_content[i] = [x for x, y in v_content[i] if y in ['Noun', 'Adjective', 'Verb']]\n",
    "\n",
    "        point = 0\n",
    "        percentile1 = len(v_content[i]) * (2/10)\n",
    "        percentile2 = len(v_content[i]) * (4/10)\n",
    "        percentile3 = len(v_content[i]) * (6/10)\n",
    "        percentile4 = len(v_content[i]) * (8/10)\n",
    "\n",
    "        for length in range(len(v_content[i])):\n",
    "            if v_content[i][length] in low:\n",
    "                if length <= percentile1:\n",
    "                    point -= 1\n",
    "                elif length < percentile2 and length > percentile1:\n",
    "                    point -= 3\n",
    "                elif length < percentile3 and length >= percentile2:\n",
    "                    point -= 5\n",
    "                elif length >= percentile3:\n",
    "                    point -= 10\n",
    "\n",
    "            if v_content[i][length] in up:\n",
    "                if length <= percentile1:\n",
    "                    point += 1\n",
    "                elif length < percentile2 and length > percentile1:\n",
    "                    point += 3\n",
    "                elif length < percentile3 and length >= percentile2:\n",
    "                    point += 5\n",
    "                elif length >= percentile3:\n",
    "                    point += 10\n",
    "        try:\n",
    "            v_content[i] = point / len(v_content[i])\n",
    "            sum_content = sum(v_content)\n",
    "        except:\n",
    "            sum_content = 0\n",
    "    \n",
    "\n",
    "    result = sum_title + sum_content\n",
    "\n",
    "    result_contents.append(result)"
   ]
  },
  {
   "cell_type": "code",
   "execution_count": 85,
   "metadata": {},
   "outputs": [],
   "source": [
    "df['감정'] = result_contents"
   ]
  },
  {
   "cell_type": "code",
   "execution_count": 88,
   "metadata": {},
   "outputs": [
    {
     "data": {
      "text/plain": [
       "{'spreadsheetId': '1Ws4AoSLvvlJs8ZOrN7lpF6Y1PWwrZUVssF71Awatmuw',\n",
       " 'updatedRange': 'df!A1:H596',\n",
       " 'updatedRows': 596,\n",
       " 'updatedColumns': 8,\n",
       " 'updatedCells': 4768}"
      ]
     },
     "execution_count": 88,
     "metadata": {},
     "output_type": "execute_result"
    }
   ],
   "source": [
    "# 업데이트\n",
    "worksheet.update([df.columns.values.tolist()] + df.values.tolist())"
   ]
  },
  {
   "cell_type": "markdown",
   "metadata": {},
   "source": [
    "삼성전자 및 LG SK하이닉스 PER PBR ROE"
   ]
  },
  {
   "cell_type": "code",
   "execution_count": 72,
   "metadata": {},
   "outputs": [],
   "source": [
    "#삼성전자와 친구들\n",
    "spreadsheet_url = 'https://docs.google.com/spreadsheets/d/1N5Gv5H5CgYYPzgT8Jrl4KeIdmrWtXAqqcBsVQ-tcS-M/edit#gid=0'\n",
    "\n",
    "# 스프레스시트 문서 가져오기 \n",
    "doc = gc.open_by_url(spreadsheet_url)\n",
    "\n",
    "# 시트 선택하기\n",
    "worksheet_fund = doc.worksheet('시트1')"
   ]
  },
  {
   "cell_type": "code",
   "execution_count": 73,
   "metadata": {},
   "outputs": [],
   "source": [
    "samsung_data = pd.DataFrame()"
   ]
  },
  {
   "cell_type": "code",
   "execution_count": 74,
   "metadata": {},
   "outputs": [],
   "source": [
    "samsung_data['삼성 PBR'] = df_fund['PBR']\n",
    "samsung_data['LG전자 PBR'] = LG_fund['PBR']\n",
    "samsung_data['SK하이닉스 PBR'] = SK_fund['PBR']\n",
    "samsung_data['삼성 PER'] = df_fund['PER']\n",
    "samsung_data['LG전자 PER'] = LG_fund['PER']\n",
    "samsung_data['SK하이닉스 PER'] = SK_fund['PER']"
   ]
  },
  {
   "cell_type": "code",
   "execution_count": 75,
   "metadata": {},
   "outputs": [],
   "source": [
    "samsung_data['삼성 ROE'] = df_fund['PBR'] / df_fund['PER']"
   ]
  },
  {
   "cell_type": "code",
   "execution_count": 80,
   "metadata": {},
   "outputs": [],
   "source": [
    "df['Date'] = df['Date'].astype(str)"
   ]
  },
  {
   "cell_type": "code",
   "execution_count": 81,
   "metadata": {},
   "outputs": [],
   "source": [
    "samsung_data['Date'] = LG_fund['Date']"
   ]
  },
  {
   "cell_type": "code",
   "execution_count": 82,
   "metadata": {},
   "outputs": [
    {
     "data": {
      "text/plain": [
       "{'spreadsheetId': '1N5Gv5H5CgYYPzgT8Jrl4KeIdmrWtXAqqcBsVQ-tcS-M',\n",
       " 'updatedRange': \"'시트1'!A1:H596\",\n",
       " 'updatedRows': 596,\n",
       " 'updatedColumns': 8,\n",
       " 'updatedCells': 4768}"
      ]
     },
     "execution_count": 82,
     "metadata": {},
     "output_type": "execute_result"
    }
   ],
   "source": [
    "worksheet_fund.update([samsung_data.columns.values.tolist()] + samsung_data.values.tolist())"
   ]
  }
 ],
 "metadata": {
  "kernelspec": {
   "display_name": "Python 3",
   "language": "python",
   "name": "python3"
  },
  "language_info": {
   "codemirror_mode": {
    "name": "ipython",
    "version": 3
   },
   "file_extension": ".py",
   "mimetype": "text/x-python",
   "name": "python",
   "nbconvert_exporter": "python",
   "pygments_lexer": "ipython3",
   "version": "3.7.6"
  }
 },
 "nbformat": 4,
 "nbformat_minor": 1
}

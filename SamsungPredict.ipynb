{
 "cells": [
  {
   "cell_type": "code",
   "execution_count": 33,
   "metadata": {},
   "outputs": [],
   "source": [
    "from sklearn.datasets import load_wine\n",
    "from sklearn.model_selection import train_test_split\n",
    "from sklearn import ensemble\n",
    "from sklearn.metrics import mean_squared_error\n",
    "import pandas as pd\n",
    "from sklearn.ensemble import RandomForestRegressor\n",
    "import numpy as np\n",
    "import matplotlib.pyplot as plot"
   ]
  },
  {
   "cell_type": "code",
   "execution_count": 34,
   "metadata": {},
   "outputs": [],
   "source": [
    "import xgboost as xgb"
   ]
  },
  {
   "cell_type": "code",
   "execution_count": 35,
   "metadata": {},
   "outputs": [],
   "source": [
    "import gspread\n",
    "from oauth2client.service_account import ServiceAccountCredentials\n",
    "\n",
    "scope = [\n",
    "'https://spreadsheets.google.com/feeds',\n",
    "'https://www.googleapis.com/auth/drive',\n",
    "]\n",
    "\n",
    "json_file_name = 'omega-tenure-341805-e2f94364a249.json'\n",
    "\n",
    "credentials = ServiceAccountCredentials.from_json_keyfile_name(json_file_name, scope)\n",
    "gc = gspread.authorize(credentials)\n",
    "\n",
    "\n",
    "spreadsheet_url = 'https://docs.google.com/spreadsheets/d/1Ws4AoSLvvlJs8ZOrN7lpF6Y1PWwrZUVssF71Awatmuw/edit#gid=448337019'\n",
    "\n",
    "# 스프레스시트 문서 가져오기 \n",
    "doc = gc.open_by_url(spreadsheet_url)\n",
    "\n",
    "# 일반 지표\n",
    "samsung = doc.worksheet('df')"
   ]
  },
  {
   "cell_type": "code",
   "execution_count": 36,
   "metadata": {},
   "outputs": [],
   "source": [
    "#삼성전자와 친구들\n",
    "spreadsheet_url = 'https://docs.google.com/spreadsheets/d/1N5Gv5H5CgYYPzgT8Jrl4KeIdmrWtXAqqcBsVQ-tcS-M/edit#gid=0'\n",
    "\n",
    "# 스프레스시트 문서 가져오기 \n",
    "doc = gc.open_by_url(spreadsheet_url)\n",
    "\n",
    "# 시트 선택하기\n",
    "samsung_fund = doc.worksheet('시트1')"
   ]
  },
  {
   "cell_type": "code",
   "execution_count": 37,
   "metadata": {},
   "outputs": [],
   "source": [
    "samsung = pd.DataFrame(samsung.get_all_records())\n",
    "samsung_fund = pd.DataFrame(samsung_fund.get_all_records())"
   ]
  },
  {
   "cell_type": "code",
   "execution_count": 38,
   "metadata": {},
   "outputs": [
    {
     "data": {
      "text/html": [
       "<div>\n",
       "<style scoped>\n",
       "    .dataframe tbody tr th:only-of-type {\n",
       "        vertical-align: middle;\n",
       "    }\n",
       "\n",
       "    .dataframe tbody tr th {\n",
       "        vertical-align: top;\n",
       "    }\n",
       "\n",
       "    .dataframe thead th {\n",
       "        text-align: right;\n",
       "    }\n",
       "</style>\n",
       "<table border=\"1\" class=\"dataframe\">\n",
       "  <thead>\n",
       "    <tr style=\"text-align: right;\">\n",
       "      <th></th>\n",
       "      <th>시가</th>\n",
       "      <th>상한가</th>\n",
       "      <th>하한가</th>\n",
       "      <th>종가</th>\n",
       "      <th>거래량</th>\n",
       "      <th>등락률</th>\n",
       "      <th>Date</th>\n",
       "      <th>감정</th>\n",
       "    </tr>\n",
       "  </thead>\n",
       "  <tbody>\n",
       "    <tr>\n",
       "      <th>0</th>\n",
       "      <td>55500</td>\n",
       "      <td>56000</td>\n",
       "      <td>55000</td>\n",
       "      <td>55200</td>\n",
       "      <td>12993228</td>\n",
       "      <td>-0.010753</td>\n",
       "      <td>2020-01-02</td>\n",
       "      <td>0.785973</td>\n",
       "    </tr>\n",
       "    <tr>\n",
       "      <th>1</th>\n",
       "      <td>56000</td>\n",
       "      <td>56600</td>\n",
       "      <td>54900</td>\n",
       "      <td>55500</td>\n",
       "      <td>15422255</td>\n",
       "      <td>0.005435</td>\n",
       "      <td>2020-01-03</td>\n",
       "      <td>2.880952</td>\n",
       "    </tr>\n",
       "    <tr>\n",
       "      <th>2</th>\n",
       "      <td>54900</td>\n",
       "      <td>55600</td>\n",
       "      <td>54600</td>\n",
       "      <td>55500</td>\n",
       "      <td>10278951</td>\n",
       "      <td>0.000000</td>\n",
       "      <td>2020-01-06</td>\n",
       "      <td>1.026229</td>\n",
       "    </tr>\n",
       "  </tbody>\n",
       "</table>\n",
       "</div>"
      ],
      "text/plain": [
       "      시가    상한가    하한가     종가       거래량       등락률        Date        감정\n",
       "0  55500  56000  55000  55200  12993228 -0.010753  2020-01-02  0.785973\n",
       "1  56000  56600  54900  55500  15422255  0.005435  2020-01-03  2.880952\n",
       "2  54900  55600  54600  55500  10278951  0.000000  2020-01-06  1.026229"
      ]
     },
     "execution_count": 38,
     "metadata": {},
     "output_type": "execute_result"
    }
   ],
   "source": [
    "samsung.head(3)"
   ]
  },
  {
   "cell_type": "code",
   "execution_count": 39,
   "metadata": {},
   "outputs": [
    {
     "data": {
      "text/html": [
       "<div>\n",
       "<style scoped>\n",
       "    .dataframe tbody tr th:only-of-type {\n",
       "        vertical-align: middle;\n",
       "    }\n",
       "\n",
       "    .dataframe tbody tr th {\n",
       "        vertical-align: top;\n",
       "    }\n",
       "\n",
       "    .dataframe thead th {\n",
       "        text-align: right;\n",
       "    }\n",
       "</style>\n",
       "<table border=\"1\" class=\"dataframe\">\n",
       "  <thead>\n",
       "    <tr style=\"text-align: right;\">\n",
       "      <th></th>\n",
       "      <th>삼성 PBR</th>\n",
       "      <th>LG전자 PBR</th>\n",
       "      <th>SK하이닉스 PBR</th>\n",
       "      <th>삼성 PER</th>\n",
       "      <th>LG전자 PER</th>\n",
       "      <th>SK하이닉스 PER</th>\n",
       "      <th>삼성 ROE</th>\n",
       "      <th>Date</th>\n",
       "    </tr>\n",
       "  </thead>\n",
       "  <tbody>\n",
       "    <tr>\n",
       "      <th>0</th>\n",
       "      <td>1.56</td>\n",
       "      <td>0.90</td>\n",
       "      <td>1.47</td>\n",
       "      <td>8.54</td>\n",
       "      <td>10.32</td>\n",
       "      <td>4.26</td>\n",
       "      <td>0.182670</td>\n",
       "      <td>2020-01-02</td>\n",
       "    </tr>\n",
       "    <tr>\n",
       "      <th>1</th>\n",
       "      <td>1.57</td>\n",
       "      <td>0.90</td>\n",
       "      <td>1.47</td>\n",
       "      <td>8.59</td>\n",
       "      <td>10.33</td>\n",
       "      <td>4.25</td>\n",
       "      <td>0.182771</td>\n",
       "      <td>2020-01-03</td>\n",
       "    </tr>\n",
       "    <tr>\n",
       "      <th>2</th>\n",
       "      <td>1.57</td>\n",
       "      <td>0.89</td>\n",
       "      <td>1.47</td>\n",
       "      <td>8.59</td>\n",
       "      <td>10.16</td>\n",
       "      <td>4.24</td>\n",
       "      <td>0.182771</td>\n",
       "      <td>2020-01-06</td>\n",
       "    </tr>\n",
       "  </tbody>\n",
       "</table>\n",
       "</div>"
      ],
      "text/plain": [
       "   삼성 PBR  LG전자 PBR  SK하이닉스 PBR  삼성 PER  LG전자 PER  SK하이닉스 PER    삼성 ROE  \\\n",
       "0    1.56      0.90        1.47    8.54     10.32        4.26  0.182670   \n",
       "1    1.57      0.90        1.47    8.59     10.33        4.25  0.182771   \n",
       "2    1.57      0.89        1.47    8.59     10.16        4.24  0.182771   \n",
       "\n",
       "         Date  \n",
       "0  2020-01-02  \n",
       "1  2020-01-03  \n",
       "2  2020-01-06  "
      ]
     },
     "execution_count": 39,
     "metadata": {},
     "output_type": "execute_result"
    }
   ],
   "source": [
    "samsung_fund.head(3)"
   ]
  },
  {
   "cell_type": "code",
   "execution_count": 40,
   "metadata": {},
   "outputs": [
    {
     "data": {
      "text/html": [
       "<div>\n",
       "<style scoped>\n",
       "    .dataframe tbody tr th:only-of-type {\n",
       "        vertical-align: middle;\n",
       "    }\n",
       "\n",
       "    .dataframe tbody tr th {\n",
       "        vertical-align: top;\n",
       "    }\n",
       "\n",
       "    .dataframe thead th {\n",
       "        text-align: right;\n",
       "    }\n",
       "</style>\n",
       "<table border=\"1\" class=\"dataframe\">\n",
       "  <thead>\n",
       "    <tr style=\"text-align: right;\">\n",
       "      <th></th>\n",
       "      <th>삼성 PBR</th>\n",
       "      <th>LG전자 PBR</th>\n",
       "      <th>SK하이닉스 PBR</th>\n",
       "      <th>삼성 PER</th>\n",
       "      <th>LG전자 PER</th>\n",
       "      <th>SK하이닉스 PER</th>\n",
       "      <th>삼성 ROE</th>\n",
       "      <th>Date</th>\n",
       "    </tr>\n",
       "  </thead>\n",
       "  <tbody>\n",
       "    <tr>\n",
       "      <th>592</th>\n",
       "      <td>1.52</td>\n",
       "      <td>1.07</td>\n",
       "      <td>1.19</td>\n",
       "      <td>11.49</td>\n",
       "      <td>17.90</td>\n",
       "      <td>7.72</td>\n",
       "      <td>0.132289</td>\n",
       "      <td>2022-05-25</td>\n",
       "    </tr>\n",
       "    <tr>\n",
       "      <th>593</th>\n",
       "      <td>1.51</td>\n",
       "      <td>1.07</td>\n",
       "      <td>1.14</td>\n",
       "      <td>11.41</td>\n",
       "      <td>17.82</td>\n",
       "      <td>7.36</td>\n",
       "      <td>0.132340</td>\n",
       "      <td>2022-05-26</td>\n",
       "    </tr>\n",
       "    <tr>\n",
       "      <th>594</th>\n",
       "      <td>1.52</td>\n",
       "      <td>1.08</td>\n",
       "      <td>1.17</td>\n",
       "      <td>11.51</td>\n",
       "      <td>18.08</td>\n",
       "      <td>7.58</td>\n",
       "      <td>0.132059</td>\n",
       "      <td>2022-05-27</td>\n",
       "    </tr>\n",
       "  </tbody>\n",
       "</table>\n",
       "</div>"
      ],
      "text/plain": [
       "     삼성 PBR  LG전자 PBR  SK하이닉스 PBR  삼성 PER  LG전자 PER  SK하이닉스 PER    삼성 ROE  \\\n",
       "592    1.52      1.07        1.19   11.49     17.90        7.72  0.132289   \n",
       "593    1.51      1.07        1.14   11.41     17.82        7.36  0.132340   \n",
       "594    1.52      1.08        1.17   11.51     18.08        7.58  0.132059   \n",
       "\n",
       "           Date  \n",
       "592  2022-05-25  \n",
       "593  2022-05-26  \n",
       "594  2022-05-27  "
      ]
     },
     "execution_count": 40,
     "metadata": {},
     "output_type": "execute_result"
    }
   ],
   "source": [
    "samsung_fund.tail(3)"
   ]
  },
  {
   "cell_type": "code",
   "execution_count": 41,
   "metadata": {},
   "outputs": [
    {
     "data": {
      "text/html": [
       "<div>\n",
       "<style scoped>\n",
       "    .dataframe tbody tr th:only-of-type {\n",
       "        vertical-align: middle;\n",
       "    }\n",
       "\n",
       "    .dataframe tbody tr th {\n",
       "        vertical-align: top;\n",
       "    }\n",
       "\n",
       "    .dataframe thead th {\n",
       "        text-align: right;\n",
       "    }\n",
       "</style>\n",
       "<table border=\"1\" class=\"dataframe\">\n",
       "  <thead>\n",
       "    <tr style=\"text-align: right;\">\n",
       "      <th></th>\n",
       "      <th>시가</th>\n",
       "      <th>상한가</th>\n",
       "      <th>하한가</th>\n",
       "      <th>종가</th>\n",
       "      <th>거래량</th>\n",
       "      <th>등락률</th>\n",
       "      <th>Date</th>\n",
       "      <th>감정</th>\n",
       "    </tr>\n",
       "  </thead>\n",
       "  <tbody>\n",
       "    <tr>\n",
       "      <th>592</th>\n",
       "      <td>66700</td>\n",
       "      <td>67100</td>\n",
       "      <td>65900</td>\n",
       "      <td>66400</td>\n",
       "      <td>15150490</td>\n",
       "      <td>-0.001504</td>\n",
       "      <td>2022-05-25</td>\n",
       "      <td>1.527778</td>\n",
       "    </tr>\n",
       "    <tr>\n",
       "      <th>593</th>\n",
       "      <td>66300</td>\n",
       "      <td>67200</td>\n",
       "      <td>65500</td>\n",
       "      <td>65900</td>\n",
       "      <td>15970890</td>\n",
       "      <td>-0.007530</td>\n",
       "      <td>2022-05-26</td>\n",
       "      <td>4.349578</td>\n",
       "    </tr>\n",
       "    <tr>\n",
       "      <th>594</th>\n",
       "      <td>66700</td>\n",
       "      <td>66900</td>\n",
       "      <td>66200</td>\n",
       "      <td>66500</td>\n",
       "      <td>11346700</td>\n",
       "      <td>0.009105</td>\n",
       "      <td>2022-05-27</td>\n",
       "      <td>3.015542</td>\n",
       "    </tr>\n",
       "  </tbody>\n",
       "</table>\n",
       "</div>"
      ],
      "text/plain": [
       "        시가    상한가    하한가     종가       거래량       등락률        Date        감정\n",
       "592  66700  67100  65900  66400  15150490 -0.001504  2022-05-25  1.527778\n",
       "593  66300  67200  65500  65900  15970890 -0.007530  2022-05-26  4.349578\n",
       "594  66700  66900  66200  66500  11346700  0.009105  2022-05-27  3.015542"
      ]
     },
     "execution_count": 41,
     "metadata": {},
     "output_type": "execute_result"
    }
   ],
   "source": [
    "samsung.tail(3)"
   ]
  },
  {
   "cell_type": "code",
   "execution_count": 42,
   "metadata": {},
   "outputs": [],
   "source": [
    "data = pd.merge(samsung, samsung_fund, left_on='Date', right_on='Date', how='inner')"
   ]
  },
  {
   "cell_type": "code",
   "execution_count": 43,
   "metadata": {},
   "outputs": [
    {
     "data": {
      "text/html": [
       "<div>\n",
       "<style scoped>\n",
       "    .dataframe tbody tr th:only-of-type {\n",
       "        vertical-align: middle;\n",
       "    }\n",
       "\n",
       "    .dataframe tbody tr th {\n",
       "        vertical-align: top;\n",
       "    }\n",
       "\n",
       "    .dataframe thead th {\n",
       "        text-align: right;\n",
       "    }\n",
       "</style>\n",
       "<table border=\"1\" class=\"dataframe\">\n",
       "  <thead>\n",
       "    <tr style=\"text-align: right;\">\n",
       "      <th></th>\n",
       "      <th>시가</th>\n",
       "      <th>상한가</th>\n",
       "      <th>하한가</th>\n",
       "      <th>종가</th>\n",
       "      <th>거래량</th>\n",
       "      <th>등락률</th>\n",
       "      <th>Date</th>\n",
       "      <th>감정</th>\n",
       "      <th>삼성 PBR</th>\n",
       "      <th>LG전자 PBR</th>\n",
       "      <th>SK하이닉스 PBR</th>\n",
       "      <th>삼성 PER</th>\n",
       "      <th>LG전자 PER</th>\n",
       "      <th>SK하이닉스 PER</th>\n",
       "      <th>삼성 ROE</th>\n",
       "    </tr>\n",
       "  </thead>\n",
       "  <tbody>\n",
       "    <tr>\n",
       "      <th>0</th>\n",
       "      <td>55500</td>\n",
       "      <td>56000</td>\n",
       "      <td>55000</td>\n",
       "      <td>55200</td>\n",
       "      <td>12993228</td>\n",
       "      <td>-0.010753</td>\n",
       "      <td>2020-01-02</td>\n",
       "      <td>0.785973</td>\n",
       "      <td>1.56</td>\n",
       "      <td>0.9</td>\n",
       "      <td>1.47</td>\n",
       "      <td>8.54</td>\n",
       "      <td>10.32</td>\n",
       "      <td>4.26</td>\n",
       "      <td>0.18267</td>\n",
       "    </tr>\n",
       "  </tbody>\n",
       "</table>\n",
       "</div>"
      ],
      "text/plain": [
       "      시가    상한가    하한가     종가       거래량       등락률        Date        감정  \\\n",
       "0  55500  56000  55000  55200  12993228 -0.010753  2020-01-02  0.785973   \n",
       "\n",
       "   삼성 PBR  LG전자 PBR  SK하이닉스 PBR  삼성 PER  LG전자 PER  SK하이닉스 PER   삼성 ROE  \n",
       "0    1.56       0.9        1.47    8.54     10.32        4.26  0.18267  "
      ]
     },
     "execution_count": 43,
     "metadata": {},
     "output_type": "execute_result"
    }
   ],
   "source": [
    "data.head(1)"
   ]
  },
  {
   "cell_type": "code",
   "execution_count": 44,
   "metadata": {},
   "outputs": [
    {
     "data": {
      "text/html": [
       "<div>\n",
       "<style scoped>\n",
       "    .dataframe tbody tr th:only-of-type {\n",
       "        vertical-align: middle;\n",
       "    }\n",
       "\n",
       "    .dataframe tbody tr th {\n",
       "        vertical-align: top;\n",
       "    }\n",
       "\n",
       "    .dataframe thead th {\n",
       "        text-align: right;\n",
       "    }\n",
       "</style>\n",
       "<table border=\"1\" class=\"dataframe\">\n",
       "  <thead>\n",
       "    <tr style=\"text-align: right;\">\n",
       "      <th></th>\n",
       "      <th>시가</th>\n",
       "      <th>상한가</th>\n",
       "      <th>하한가</th>\n",
       "      <th>종가</th>\n",
       "      <th>거래량</th>\n",
       "      <th>등락률</th>\n",
       "      <th>Date</th>\n",
       "      <th>감정</th>\n",
       "      <th>삼성 PBR</th>\n",
       "      <th>LG전자 PBR</th>\n",
       "      <th>SK하이닉스 PBR</th>\n",
       "      <th>삼성 PER</th>\n",
       "      <th>LG전자 PER</th>\n",
       "      <th>SK하이닉스 PER</th>\n",
       "      <th>삼성 ROE</th>\n",
       "    </tr>\n",
       "  </thead>\n",
       "  <tbody>\n",
       "    <tr>\n",
       "      <th>594</th>\n",
       "      <td>66700</td>\n",
       "      <td>66900</td>\n",
       "      <td>66200</td>\n",
       "      <td>66500</td>\n",
       "      <td>11346700</td>\n",
       "      <td>0.009105</td>\n",
       "      <td>2022-05-27</td>\n",
       "      <td>3.015542</td>\n",
       "      <td>1.52</td>\n",
       "      <td>1.08</td>\n",
       "      <td>1.17</td>\n",
       "      <td>11.51</td>\n",
       "      <td>18.08</td>\n",
       "      <td>7.58</td>\n",
       "      <td>0.132059</td>\n",
       "    </tr>\n",
       "  </tbody>\n",
       "</table>\n",
       "</div>"
      ],
      "text/plain": [
       "        시가    상한가    하한가     종가       거래량       등락률        Date        감정  \\\n",
       "594  66700  66900  66200  66500  11346700  0.009105  2022-05-27  3.015542   \n",
       "\n",
       "     삼성 PBR  LG전자 PBR  SK하이닉스 PBR  삼성 PER  LG전자 PER  SK하이닉스 PER    삼성 ROE  \n",
       "594    1.52      1.08        1.17   11.51     18.08        7.58  0.132059  "
      ]
     },
     "execution_count": 44,
     "metadata": {},
     "output_type": "execute_result"
    }
   ],
   "source": [
    "data.tail(1)"
   ]
  },
  {
   "cell_type": "code",
   "execution_count": 45,
   "metadata": {},
   "outputs": [
    {
     "data": {
      "text/plain": [
       "Index(['시가', '상한가', '하한가', '종가', '거래량', '등락률', 'Date', '감정', '삼성 PBR',\n",
       "       'LG전자 PBR', 'SK하이닉스 PBR', '삼성 PER', 'LG전자 PER', 'SK하이닉스 PER', '삼성 ROE'],\n",
       "      dtype='object')"
      ]
     },
     "execution_count": 45,
     "metadata": {},
     "output_type": "execute_result"
    }
   ],
   "source": [
    "data.columns"
   ]
  },
  {
   "cell_type": "code",
   "execution_count": 46,
   "metadata": {},
   "outputs": [],
   "source": [
    "data = data[['Date', '시가', '상한가', '하한가', '종가', '거래량', '등락률', '감정', '삼성 PBR',\n",
    "       'LG전자 PBR', 'SK하이닉스 PBR', '삼성 PER', 'LG전자 PER', 'SK하이닉스 PER']]"
   ]
  },
  {
   "cell_type": "code",
   "execution_count": 47,
   "metadata": {},
   "outputs": [
    {
     "data": {
      "text/html": [
       "<div>\n",
       "<style scoped>\n",
       "    .dataframe tbody tr th:only-of-type {\n",
       "        vertical-align: middle;\n",
       "    }\n",
       "\n",
       "    .dataframe tbody tr th {\n",
       "        vertical-align: top;\n",
       "    }\n",
       "\n",
       "    .dataframe thead th {\n",
       "        text-align: right;\n",
       "    }\n",
       "</style>\n",
       "<table border=\"1\" class=\"dataframe\">\n",
       "  <thead>\n",
       "    <tr style=\"text-align: right;\">\n",
       "      <th></th>\n",
       "      <th>Date</th>\n",
       "      <th>시가</th>\n",
       "      <th>상한가</th>\n",
       "      <th>하한가</th>\n",
       "      <th>종가</th>\n",
       "      <th>거래량</th>\n",
       "      <th>등락률</th>\n",
       "      <th>감정</th>\n",
       "      <th>삼성 PBR</th>\n",
       "      <th>LG전자 PBR</th>\n",
       "      <th>SK하이닉스 PBR</th>\n",
       "      <th>삼성 PER</th>\n",
       "      <th>LG전자 PER</th>\n",
       "      <th>SK하이닉스 PER</th>\n",
       "    </tr>\n",
       "  </thead>\n",
       "  <tbody>\n",
       "    <tr>\n",
       "      <th>0</th>\n",
       "      <td>2020-01-02</td>\n",
       "      <td>55500</td>\n",
       "      <td>56000</td>\n",
       "      <td>55000</td>\n",
       "      <td>55200</td>\n",
       "      <td>12993228</td>\n",
       "      <td>-0.010753</td>\n",
       "      <td>0.785973</td>\n",
       "      <td>1.56</td>\n",
       "      <td>0.90</td>\n",
       "      <td>1.47</td>\n",
       "      <td>8.54</td>\n",
       "      <td>10.32</td>\n",
       "      <td>4.26</td>\n",
       "    </tr>\n",
       "    <tr>\n",
       "      <th>1</th>\n",
       "      <td>2020-01-03</td>\n",
       "      <td>56000</td>\n",
       "      <td>56600</td>\n",
       "      <td>54900</td>\n",
       "      <td>55500</td>\n",
       "      <td>15422255</td>\n",
       "      <td>0.005435</td>\n",
       "      <td>2.880952</td>\n",
       "      <td>1.57</td>\n",
       "      <td>0.90</td>\n",
       "      <td>1.47</td>\n",
       "      <td>8.59</td>\n",
       "      <td>10.33</td>\n",
       "      <td>4.25</td>\n",
       "    </tr>\n",
       "    <tr>\n",
       "      <th>2</th>\n",
       "      <td>2020-01-06</td>\n",
       "      <td>54900</td>\n",
       "      <td>55600</td>\n",
       "      <td>54600</td>\n",
       "      <td>55500</td>\n",
       "      <td>10278951</td>\n",
       "      <td>0.000000</td>\n",
       "      <td>1.026229</td>\n",
       "      <td>1.57</td>\n",
       "      <td>0.89</td>\n",
       "      <td>1.47</td>\n",
       "      <td>8.59</td>\n",
       "      <td>10.16</td>\n",
       "      <td>4.24</td>\n",
       "    </tr>\n",
       "  </tbody>\n",
       "</table>\n",
       "</div>"
      ],
      "text/plain": [
       "         Date     시가    상한가    하한가     종가       거래량       등락률        감정  \\\n",
       "0  2020-01-02  55500  56000  55000  55200  12993228 -0.010753  0.785973   \n",
       "1  2020-01-03  56000  56600  54900  55500  15422255  0.005435  2.880952   \n",
       "2  2020-01-06  54900  55600  54600  55500  10278951  0.000000  1.026229   \n",
       "\n",
       "   삼성 PBR  LG전자 PBR  SK하이닉스 PBR  삼성 PER  LG전자 PER  SK하이닉스 PER  \n",
       "0    1.56      0.90        1.47    8.54     10.32        4.26  \n",
       "1    1.57      0.90        1.47    8.59     10.33        4.25  \n",
       "2    1.57      0.89        1.47    8.59     10.16        4.24  "
      ]
     },
     "execution_count": 47,
     "metadata": {},
     "output_type": "execute_result"
    }
   ],
   "source": [
    "data.head(3)"
   ]
  },
  {
   "cell_type": "code",
   "execution_count": 48,
   "metadata": {},
   "outputs": [
    {
     "data": {
      "text/html": [
       "<div>\n",
       "<style scoped>\n",
       "    .dataframe tbody tr th:only-of-type {\n",
       "        vertical-align: middle;\n",
       "    }\n",
       "\n",
       "    .dataframe tbody tr th {\n",
       "        vertical-align: top;\n",
       "    }\n",
       "\n",
       "    .dataframe thead th {\n",
       "        text-align: right;\n",
       "    }\n",
       "</style>\n",
       "<table border=\"1\" class=\"dataframe\">\n",
       "  <thead>\n",
       "    <tr style=\"text-align: right;\">\n",
       "      <th></th>\n",
       "      <th>Date</th>\n",
       "      <th>시가</th>\n",
       "      <th>상한가</th>\n",
       "      <th>하한가</th>\n",
       "      <th>종가</th>\n",
       "      <th>거래량</th>\n",
       "      <th>등락률</th>\n",
       "      <th>감정</th>\n",
       "      <th>삼성 PBR</th>\n",
       "      <th>LG전자 PBR</th>\n",
       "      <th>SK하이닉스 PBR</th>\n",
       "      <th>삼성 PER</th>\n",
       "      <th>LG전자 PER</th>\n",
       "      <th>SK하이닉스 PER</th>\n",
       "    </tr>\n",
       "  </thead>\n",
       "  <tbody>\n",
       "    <tr>\n",
       "      <th>592</th>\n",
       "      <td>2022-05-25</td>\n",
       "      <td>66700</td>\n",
       "      <td>67100</td>\n",
       "      <td>65900</td>\n",
       "      <td>66400</td>\n",
       "      <td>15150490</td>\n",
       "      <td>-0.001504</td>\n",
       "      <td>1.527778</td>\n",
       "      <td>1.52</td>\n",
       "      <td>1.07</td>\n",
       "      <td>1.19</td>\n",
       "      <td>11.49</td>\n",
       "      <td>17.90</td>\n",
       "      <td>7.72</td>\n",
       "    </tr>\n",
       "    <tr>\n",
       "      <th>593</th>\n",
       "      <td>2022-05-26</td>\n",
       "      <td>66300</td>\n",
       "      <td>67200</td>\n",
       "      <td>65500</td>\n",
       "      <td>65900</td>\n",
       "      <td>15970890</td>\n",
       "      <td>-0.007530</td>\n",
       "      <td>4.349578</td>\n",
       "      <td>1.51</td>\n",
       "      <td>1.07</td>\n",
       "      <td>1.14</td>\n",
       "      <td>11.41</td>\n",
       "      <td>17.82</td>\n",
       "      <td>7.36</td>\n",
       "    </tr>\n",
       "    <tr>\n",
       "      <th>594</th>\n",
       "      <td>2022-05-27</td>\n",
       "      <td>66700</td>\n",
       "      <td>66900</td>\n",
       "      <td>66200</td>\n",
       "      <td>66500</td>\n",
       "      <td>11346700</td>\n",
       "      <td>0.009105</td>\n",
       "      <td>3.015542</td>\n",
       "      <td>1.52</td>\n",
       "      <td>1.08</td>\n",
       "      <td>1.17</td>\n",
       "      <td>11.51</td>\n",
       "      <td>18.08</td>\n",
       "      <td>7.58</td>\n",
       "    </tr>\n",
       "  </tbody>\n",
       "</table>\n",
       "</div>"
      ],
      "text/plain": [
       "           Date     시가    상한가    하한가     종가       거래량       등락률        감정  \\\n",
       "592  2022-05-25  66700  67100  65900  66400  15150490 -0.001504  1.527778   \n",
       "593  2022-05-26  66300  67200  65500  65900  15970890 -0.007530  4.349578   \n",
       "594  2022-05-27  66700  66900  66200  66500  11346700  0.009105  3.015542   \n",
       "\n",
       "     삼성 PBR  LG전자 PBR  SK하이닉스 PBR  삼성 PER  LG전자 PER  SK하이닉스 PER  \n",
       "592    1.52      1.07        1.19   11.49     17.90        7.72  \n",
       "593    1.51      1.07        1.14   11.41     17.82        7.36  \n",
       "594    1.52      1.08        1.17   11.51     18.08        7.58  "
      ]
     },
     "execution_count": 48,
     "metadata": {},
     "output_type": "execute_result"
    }
   ],
   "source": [
    "data.tail(3)"
   ]
  },
  {
   "cell_type": "code",
   "execution_count": 49,
   "metadata": {},
   "outputs": [
    {
     "data": {
      "text/plain": [
       "0      55200\n",
       "1      55500\n",
       "2      55500\n",
       "3      55800\n",
       "4      56800\n",
       "       ...  \n",
       "590    67900\n",
       "591    66500\n",
       "592    66400\n",
       "593    65900\n",
       "594    66500\n",
       "Name: 종가, Length: 595, dtype: int64"
      ]
     },
     "execution_count": 49,
     "metadata": {},
     "output_type": "execute_result"
    }
   ],
   "source": [
    "data['종가']"
   ]
  },
  {
   "cell_type": "code",
   "execution_count": 50,
   "metadata": {},
   "outputs": [],
   "source": [
    "y = data['하한가'].shift(-1)"
   ]
  },
  {
   "cell_type": "code",
   "execution_count": 51,
   "metadata": {},
   "outputs": [],
   "source": [
    "y = data['종가'].shift(-1)"
   ]
  },
  {
   "cell_type": "code",
   "execution_count": 52,
   "metadata": {},
   "outputs": [],
   "source": [
    "y = y[:-1]"
   ]
  },
  {
   "cell_type": "code",
   "execution_count": 53,
   "metadata": {},
   "outputs": [],
   "source": [
    "x = data.drop(data.index[-1:])"
   ]
  },
  {
   "cell_type": "code",
   "execution_count": 54,
   "metadata": {},
   "outputs": [],
   "source": [
    "x = x.drop(['Date'], axis=1)"
   ]
  },
  {
   "cell_type": "code",
   "execution_count": 55,
   "metadata": {},
   "outputs": [
    {
     "data": {
      "text/plain": [
       "0      55500.0\n",
       "1      55500.0\n",
       "2      55800.0\n",
       "3      56800.0\n",
       "4      58600.0\n",
       "        ...   \n",
       "589    67900.0\n",
       "590    66500.0\n",
       "591    66400.0\n",
       "592    65900.0\n",
       "593    66500.0\n",
       "Name: 종가, Length: 594, dtype: float64"
      ]
     },
     "execution_count": 55,
     "metadata": {},
     "output_type": "execute_result"
    }
   ],
   "source": [
    "y"
   ]
  },
  {
   "cell_type": "code",
   "execution_count": 56,
   "metadata": {},
   "outputs": [
    {
     "data": {
      "text/html": [
       "<div>\n",
       "<style scoped>\n",
       "    .dataframe tbody tr th:only-of-type {\n",
       "        vertical-align: middle;\n",
       "    }\n",
       "\n",
       "    .dataframe tbody tr th {\n",
       "        vertical-align: top;\n",
       "    }\n",
       "\n",
       "    .dataframe thead th {\n",
       "        text-align: right;\n",
       "    }\n",
       "</style>\n",
       "<table border=\"1\" class=\"dataframe\">\n",
       "  <thead>\n",
       "    <tr style=\"text-align: right;\">\n",
       "      <th></th>\n",
       "      <th>시가</th>\n",
       "      <th>상한가</th>\n",
       "      <th>하한가</th>\n",
       "      <th>종가</th>\n",
       "      <th>거래량</th>\n",
       "      <th>등락률</th>\n",
       "      <th>감정</th>\n",
       "      <th>삼성 PBR</th>\n",
       "      <th>LG전자 PBR</th>\n",
       "      <th>SK하이닉스 PBR</th>\n",
       "      <th>삼성 PER</th>\n",
       "      <th>LG전자 PER</th>\n",
       "      <th>SK하이닉스 PER</th>\n",
       "    </tr>\n",
       "  </thead>\n",
       "  <tbody>\n",
       "    <tr>\n",
       "      <th>0</th>\n",
       "      <td>55500</td>\n",
       "      <td>56000</td>\n",
       "      <td>55000</td>\n",
       "      <td>55200</td>\n",
       "      <td>12993228</td>\n",
       "      <td>-0.010753</td>\n",
       "      <td>0.785973</td>\n",
       "      <td>1.56</td>\n",
       "      <td>0.90</td>\n",
       "      <td>1.47</td>\n",
       "      <td>8.54</td>\n",
       "      <td>10.32</td>\n",
       "      <td>4.26</td>\n",
       "    </tr>\n",
       "    <tr>\n",
       "      <th>1</th>\n",
       "      <td>56000</td>\n",
       "      <td>56600</td>\n",
       "      <td>54900</td>\n",
       "      <td>55500</td>\n",
       "      <td>15422255</td>\n",
       "      <td>0.005435</td>\n",
       "      <td>2.880952</td>\n",
       "      <td>1.57</td>\n",
       "      <td>0.90</td>\n",
       "      <td>1.47</td>\n",
       "      <td>8.59</td>\n",
       "      <td>10.33</td>\n",
       "      <td>4.25</td>\n",
       "    </tr>\n",
       "    <tr>\n",
       "      <th>2</th>\n",
       "      <td>54900</td>\n",
       "      <td>55600</td>\n",
       "      <td>54600</td>\n",
       "      <td>55500</td>\n",
       "      <td>10278951</td>\n",
       "      <td>0.000000</td>\n",
       "      <td>1.026229</td>\n",
       "      <td>1.57</td>\n",
       "      <td>0.89</td>\n",
       "      <td>1.47</td>\n",
       "      <td>8.59</td>\n",
       "      <td>10.16</td>\n",
       "      <td>4.24</td>\n",
       "    </tr>\n",
       "    <tr>\n",
       "      <th>3</th>\n",
       "      <td>55700</td>\n",
       "      <td>56400</td>\n",
       "      <td>55600</td>\n",
       "      <td>55800</td>\n",
       "      <td>10009778</td>\n",
       "      <td>0.005405</td>\n",
       "      <td>2.308939</td>\n",
       "      <td>1.58</td>\n",
       "      <td>0.89</td>\n",
       "      <td>1.46</td>\n",
       "      <td>8.64</td>\n",
       "      <td>10.22</td>\n",
       "      <td>4.22</td>\n",
       "    </tr>\n",
       "    <tr>\n",
       "      <th>4</th>\n",
       "      <td>56200</td>\n",
       "      <td>57400</td>\n",
       "      <td>55900</td>\n",
       "      <td>56800</td>\n",
       "      <td>23501171</td>\n",
       "      <td>0.017921</td>\n",
       "      <td>5.824271</td>\n",
       "      <td>1.61</td>\n",
       "      <td>0.86</td>\n",
       "      <td>1.51</td>\n",
       "      <td>8.79</td>\n",
       "      <td>9.81</td>\n",
       "      <td>4.38</td>\n",
       "    </tr>\n",
       "    <tr>\n",
       "      <th>...</th>\n",
       "      <td>...</td>\n",
       "      <td>...</td>\n",
       "      <td>...</td>\n",
       "      <td>...</td>\n",
       "      <td>...</td>\n",
       "      <td>...</td>\n",
       "      <td>...</td>\n",
       "      <td>...</td>\n",
       "      <td>...</td>\n",
       "      <td>...</td>\n",
       "      <td>...</td>\n",
       "      <td>...</td>\n",
       "      <td>...</td>\n",
       "    </tr>\n",
       "    <tr>\n",
       "      <th>589</th>\n",
       "      <td>67800</td>\n",
       "      <td>68400</td>\n",
       "      <td>67700</td>\n",
       "      <td>68000</td>\n",
       "      <td>12109671</td>\n",
       "      <td>0.007407</td>\n",
       "      <td>1.047101</td>\n",
       "      <td>1.56</td>\n",
       "      <td>1.09</td>\n",
       "      <td>1.24</td>\n",
       "      <td>11.77</td>\n",
       "      <td>18.25</td>\n",
       "      <td>8.04</td>\n",
       "    </tr>\n",
       "    <tr>\n",
       "      <th>590</th>\n",
       "      <td>68800</td>\n",
       "      <td>68800</td>\n",
       "      <td>67600</td>\n",
       "      <td>67900</td>\n",
       "      <td>13684088</td>\n",
       "      <td>-0.001471</td>\n",
       "      <td>2.329107</td>\n",
       "      <td>1.56</td>\n",
       "      <td>1.10</td>\n",
       "      <td>1.25</td>\n",
       "      <td>11.75</td>\n",
       "      <td>18.34</td>\n",
       "      <td>8.08</td>\n",
       "    </tr>\n",
       "    <tr>\n",
       "      <th>591</th>\n",
       "      <td>67500</td>\n",
       "      <td>67700</td>\n",
       "      <td>66500</td>\n",
       "      <td>66500</td>\n",
       "      <td>15482576</td>\n",
       "      <td>-0.020619</td>\n",
       "      <td>2.996825</td>\n",
       "      <td>1.52</td>\n",
       "      <td>1.07</td>\n",
       "      <td>1.20</td>\n",
       "      <td>11.51</td>\n",
       "      <td>17.90</td>\n",
       "      <td>7.76</td>\n",
       "    </tr>\n",
       "    <tr>\n",
       "      <th>592</th>\n",
       "      <td>66700</td>\n",
       "      <td>67100</td>\n",
       "      <td>65900</td>\n",
       "      <td>66400</td>\n",
       "      <td>15150490</td>\n",
       "      <td>-0.001504</td>\n",
       "      <td>1.527778</td>\n",
       "      <td>1.52</td>\n",
       "      <td>1.07</td>\n",
       "      <td>1.19</td>\n",
       "      <td>11.49</td>\n",
       "      <td>17.90</td>\n",
       "      <td>7.72</td>\n",
       "    </tr>\n",
       "    <tr>\n",
       "      <th>593</th>\n",
       "      <td>66300</td>\n",
       "      <td>67200</td>\n",
       "      <td>65500</td>\n",
       "      <td>65900</td>\n",
       "      <td>15970890</td>\n",
       "      <td>-0.007530</td>\n",
       "      <td>4.349578</td>\n",
       "      <td>1.51</td>\n",
       "      <td>1.07</td>\n",
       "      <td>1.14</td>\n",
       "      <td>11.41</td>\n",
       "      <td>17.82</td>\n",
       "      <td>7.36</td>\n",
       "    </tr>\n",
       "  </tbody>\n",
       "</table>\n",
       "<p>594 rows × 13 columns</p>\n",
       "</div>"
      ],
      "text/plain": [
       "        시가    상한가    하한가     종가       거래량       등락률        감정  삼성 PBR  \\\n",
       "0    55500  56000  55000  55200  12993228 -0.010753  0.785973    1.56   \n",
       "1    56000  56600  54900  55500  15422255  0.005435  2.880952    1.57   \n",
       "2    54900  55600  54600  55500  10278951  0.000000  1.026229    1.57   \n",
       "3    55700  56400  55600  55800  10009778  0.005405  2.308939    1.58   \n",
       "4    56200  57400  55900  56800  23501171  0.017921  5.824271    1.61   \n",
       "..     ...    ...    ...    ...       ...       ...       ...     ...   \n",
       "589  67800  68400  67700  68000  12109671  0.007407  1.047101    1.56   \n",
       "590  68800  68800  67600  67900  13684088 -0.001471  2.329107    1.56   \n",
       "591  67500  67700  66500  66500  15482576 -0.020619  2.996825    1.52   \n",
       "592  66700  67100  65900  66400  15150490 -0.001504  1.527778    1.52   \n",
       "593  66300  67200  65500  65900  15970890 -0.007530  4.349578    1.51   \n",
       "\n",
       "     LG전자 PBR  SK하이닉스 PBR  삼성 PER  LG전자 PER  SK하이닉스 PER  \n",
       "0        0.90        1.47    8.54     10.32        4.26  \n",
       "1        0.90        1.47    8.59     10.33        4.25  \n",
       "2        0.89        1.47    8.59     10.16        4.24  \n",
       "3        0.89        1.46    8.64     10.22        4.22  \n",
       "4        0.86        1.51    8.79      9.81        4.38  \n",
       "..        ...         ...     ...       ...         ...  \n",
       "589      1.09        1.24   11.77     18.25        8.04  \n",
       "590      1.10        1.25   11.75     18.34        8.08  \n",
       "591      1.07        1.20   11.51     17.90        7.76  \n",
       "592      1.07        1.19   11.49     17.90        7.72  \n",
       "593      1.07        1.14   11.41     17.82        7.36  \n",
       "\n",
       "[594 rows x 13 columns]"
      ]
     },
     "execution_count": 56,
     "metadata": {},
     "output_type": "execute_result"
    }
   ],
   "source": [
    "x"
   ]
  },
  {
   "cell_type": "code",
   "execution_count": 57,
   "metadata": {},
   "outputs": [],
   "source": [
    "x = np.array(x)\n",
    "y = np.array(y)"
   ]
  },
  {
   "cell_type": "code",
   "execution_count": 58,
   "metadata": {},
   "outputs": [
    {
     "data": {
      "text/plain": [
       "((594, 13), (594,))"
      ]
     },
     "execution_count": 58,
     "metadata": {},
     "output_type": "execute_result"
    }
   ],
   "source": [
    "x.shape, y.shape"
   ]
  },
  {
   "cell_type": "code",
   "execution_count": 59,
   "metadata": {},
   "outputs": [],
   "source": [
    "x_train, x_test, y_train, y_test = train_test_split(x, y, test_size = 0.1, random_state = 970731)"
   ]
  },
  {
   "cell_type": "code",
   "execution_count": 60,
   "metadata": {},
   "outputs": [],
   "source": [
    "x_train = x[:-1]\n",
    "y_train = y[:-1]\n",
    "x_test = x[-1]\n",
    "y_test = y[-1]"
   ]
  },
  {
   "cell_type": "code",
   "execution_count": 61,
   "metadata": {},
   "outputs": [
    {
     "data": {
      "text/plain": [
       "array([[5.550e+04, 5.600e+04, 5.500e+04, ..., 8.540e+00, 1.032e+01,\n",
       "        4.260e+00],\n",
       "       [5.600e+04, 5.660e+04, 5.490e+04, ..., 8.590e+00, 1.033e+01,\n",
       "        4.250e+00],\n",
       "       [5.490e+04, 5.560e+04, 5.460e+04, ..., 8.590e+00, 1.016e+01,\n",
       "        4.240e+00],\n",
       "       ...,\n",
       "       [6.880e+04, 6.880e+04, 6.760e+04, ..., 1.175e+01, 1.834e+01,\n",
       "        8.080e+00],\n",
       "       [6.750e+04, 6.770e+04, 6.650e+04, ..., 1.151e+01, 1.790e+01,\n",
       "        7.760e+00],\n",
       "       [6.670e+04, 6.710e+04, 6.590e+04, ..., 1.149e+01, 1.790e+01,\n",
       "        7.720e+00]])"
      ]
     },
     "execution_count": 61,
     "metadata": {},
     "output_type": "execute_result"
    }
   ],
   "source": [
    "x[:-1]"
   ]
  },
  {
   "cell_type": "code",
   "execution_count": 62,
   "metadata": {},
   "outputs": [
    {
     "data": {
      "text/plain": [
       "array([ 6.63000000e+04,  6.72000000e+04,  6.55000000e+04,  6.59000000e+04,\n",
       "        1.59708900e+07, -7.53012048e-03,  4.34957831e+00,  1.50999999e+00,\n",
       "        1.07000005e+00,  1.13999999e+00,  1.14100000e+01,  1.78200000e+01,\n",
       "        7.36000000e+00])"
      ]
     },
     "execution_count": 62,
     "metadata": {},
     "output_type": "execute_result"
    }
   ],
   "source": [
    "x[-1]"
   ]
  },
  {
   "cell_type": "code",
   "execution_count": 63,
   "metadata": {},
   "outputs": [],
   "source": [
    "model = xgb.XGBRegressor(seed=0, max_depth=6, eta=0.3, random_state=970731)"
   ]
  },
  {
   "cell_type": "code",
   "execution_count": 64,
   "metadata": {},
   "outputs": [
    {
     "name": "stdout",
     "output_type": "stream",
     "text": [
      "[18:44:16] WARNING: src/objective/regression_obj.cu:152: reg:linear is now deprecated in favor of reg:squarederror.\n"
     ]
    },
    {
     "data": {
      "text/plain": [
       "XGBRegressor(base_score=0.5, booster='gbtree', colsample_bylevel=1,\n",
       "             colsample_bynode=1, colsample_bytree=1, eta=0.3, gamma=0,\n",
       "             importance_type='gain', learning_rate=0.1, max_delta_step=0,\n",
       "             max_depth=6, min_child_weight=1, missing=None, n_estimators=100,\n",
       "             n_jobs=1, nthread=None, objective='reg:linear',\n",
       "             random_state=970731, reg_alpha=0, reg_lambda=1, scale_pos_weight=1,\n",
       "             seed=0, silent=None, subsample=1, verbosity=1)"
      ]
     },
     "execution_count": 64,
     "metadata": {},
     "output_type": "execute_result"
    }
   ],
   "source": [
    "model.fit(x_train, y_train)"
   ]
  },
  {
   "cell_type": "code",
   "execution_count": 65,
   "metadata": {},
   "outputs": [
    {
     "name": "stdout",
     "output_type": "stream",
     "text": [
      "0.999157204979842\n"
     ]
    }
   ],
   "source": [
    "print(model.score(x_train, y_train))"
   ]
  },
  {
   "cell_type": "code",
   "execution_count": 66,
   "metadata": {},
   "outputs": [],
   "source": [
    "#싱글 피쳐일 경우\n",
    "x_test = x_test.reshape(1, -1)"
   ]
  },
  {
   "cell_type": "code",
   "execution_count": 67,
   "metadata": {},
   "outputs": [],
   "source": [
    "y_pred = model.predict(x_test)"
   ]
  },
  {
   "cell_type": "code",
   "execution_count": 68,
   "metadata": {},
   "outputs": [
    {
     "name": "stdout",
     "output_type": "stream",
     "text": [
      "[64648.26]\n"
     ]
    }
   ],
   "source": [
    "print(y_pred)\n",
    "#75193\n",
    "#73756"
   ]
  },
  {
   "cell_type": "code",
   "execution_count": 69,
   "metadata": {},
   "outputs": [],
   "source": [
    "today_value = data.drop(['Date'], axis=1)"
   ]
  },
  {
   "cell_type": "code",
   "execution_count": 70,
   "metadata": {},
   "outputs": [],
   "source": [
    "today_value = data.drop(['Date'], axis=1)\n",
    "today_value = np.array(today_value)"
   ]
  },
  {
   "cell_type": "code",
   "execution_count": 71,
   "metadata": {},
   "outputs": [],
   "source": [
    "today_value = today_value[-1]"
   ]
  },
  {
   "cell_type": "code",
   "execution_count": 72,
   "metadata": {},
   "outputs": [],
   "source": [
    "today_value = today_value.reshape(1, -1)"
   ]
  },
  {
   "cell_type": "code",
   "execution_count": 73,
   "metadata": {},
   "outputs": [],
   "source": [
    "predict = model.predict(today_value)"
   ]
  },
  {
   "cell_type": "code",
   "execution_count": 74,
   "metadata": {},
   "outputs": [
    {
     "data": {
      "text/plain": [
       "array([66297.03], dtype=float32)"
      ]
     },
     "execution_count": 74,
     "metadata": {},
     "output_type": "execute_result"
    }
   ],
   "source": [
    "predict"
   ]
  },
  {
   "cell_type": "code",
   "execution_count": 75,
   "metadata": {},
   "outputs": [],
   "source": [
    "daily_samsung_data = data\n",
    "daily_samsung_data = daily_samsung_data.tail(1)"
   ]
  },
  {
   "cell_type": "code",
   "execution_count": 76,
   "metadata": {},
   "outputs": [
    {
     "name": "stderr",
     "output_type": "stream",
     "text": [
      "F:\\anaconda3\\lib\\site-packages\\ipykernel_launcher.py:1: SettingWithCopyWarning: \n",
      "A value is trying to be set on a copy of a slice from a DataFrame.\n",
      "Try using .loc[row_indexer,col_indexer] = value instead\n",
      "\n",
      "See the caveats in the documentation: https://pandas.pydata.org/pandas-docs/stable/user_guide/indexing.html#returning-a-view-versus-a-copy\n",
      "  \"\"\"Entry point for launching an IPython kernel.\n"
     ]
    }
   ],
   "source": [
    "daily_samsung_data['예측종가'] = int(predict)"
   ]
  },
  {
   "cell_type": "code",
   "execution_count": 77,
   "metadata": {},
   "outputs": [
    {
     "data": {
      "text/plain": [
       "66297"
      ]
     },
     "execution_count": 77,
     "metadata": {},
     "output_type": "execute_result"
    }
   ],
   "source": [
    "int(daily_samsung_data['예측종가'].values)"
   ]
  },
  {
   "cell_type": "code",
   "execution_count": 78,
   "metadata": {},
   "outputs": [
    {
     "name": "stderr",
     "output_type": "stream",
     "text": [
      "F:\\anaconda3\\lib\\site-packages\\ipykernel_launcher.py:4: SettingWithCopyWarning: \n",
      "A value is trying to be set on a copy of a slice from a DataFrame.\n",
      "Try using .loc[row_indexer,col_indexer] = value instead\n",
      "\n",
      "See the caveats in the documentation: https://pandas.pydata.org/pandas-docs/stable/user_guide/indexing.html#returning-a-view-versus-a-copy\n",
      "  after removing the cwd from sys.path.\n"
     ]
    }
   ],
   "source": [
    "if daily_samsung_data['예측종가'].values > daily_samsung_data['종가'].values:\n",
    "    daily_samsung_data['텍스트1'] = (\"⇧\")\n",
    "if daily_samsung_data['예측종가'].values < daily_samsung_data['종가'].values:\n",
    "    daily_samsung_data['텍스트1'] = (\"⇩\")"
   ]
  },
  {
   "cell_type": "code",
   "execution_count": 79,
   "metadata": {},
   "outputs": [
    {
     "name": "stdout",
     "output_type": "stream",
     "text": [
      "[18:44:20] WARNING: src/objective/regression_obj.cu:152: reg:linear is now deprecated in favor of reg:squarederror.\n"
     ]
    },
    {
     "name": "stderr",
     "output_type": "stream",
     "text": [
      "F:\\anaconda3\\lib\\site-packages\\ipykernel_launcher.py:20: SettingWithCopyWarning: \n",
      "A value is trying to be set on a copy of a slice from a DataFrame.\n",
      "Try using .loc[row_indexer,col_indexer] = value instead\n",
      "\n",
      "See the caveats in the documentation: https://pandas.pydata.org/pandas-docs/stable/user_guide/indexing.html#returning-a-view-versus-a-copy\n"
     ]
    }
   ],
   "source": [
    "y = data['하한가'].shift(-1)\n",
    "y = y[:-1]\n",
    "x = data.drop(data.index[-1:])\n",
    "x = x.drop(['Date'], axis=1)\n",
    "x = np.array(x)\n",
    "y = np.array(y)\n",
    "x_train, x_test, y_train, y_test = train_test_split(x, y, test_size = 0.1, random_state = 970731)\n",
    "x_train = x[:-1]\n",
    "y_train = y[:-1]\n",
    "x_test = x[-1]\n",
    "y_test = y[-1]\n",
    "model = xgb.XGBRegressor(seed=0, max_depth=6, eta=0.3, random_state=970731)\n",
    "model.fit(x_train, y_train)\n",
    "today_value = data.drop(['Date'], axis=1)\n",
    "today_value = data.drop(['Date'], axis=1)\n",
    "today_value = np.array(today_value)\n",
    "today_value = today_value[-1]\n",
    "today_value = today_value.reshape(1, -1)\n",
    "predict = model.predict(today_value)\n",
    "daily_samsung_data['예측하한가'] = int(predict)"
   ]
  },
  {
   "cell_type": "code",
   "execution_count": 80,
   "metadata": {},
   "outputs": [
    {
     "name": "stdout",
     "output_type": "stream",
     "text": [
      "[18:44:21] WARNING: src/objective/regression_obj.cu:152: reg:linear is now deprecated in favor of reg:squarederror.\n"
     ]
    },
    {
     "name": "stderr",
     "output_type": "stream",
     "text": [
      "F:\\anaconda3\\lib\\site-packages\\ipykernel_launcher.py:20: SettingWithCopyWarning: \n",
      "A value is trying to be set on a copy of a slice from a DataFrame.\n",
      "Try using .loc[row_indexer,col_indexer] = value instead\n",
      "\n",
      "See the caveats in the documentation: https://pandas.pydata.org/pandas-docs/stable/user_guide/indexing.html#returning-a-view-versus-a-copy\n"
     ]
    }
   ],
   "source": [
    "y = data['상한가'].shift(-1)\n",
    "y = y[:-1]\n",
    "x = data.drop(data.index[-1:])\n",
    "x = x.drop(['Date'], axis=1)\n",
    "x = np.array(x)\n",
    "y = np.array(y)\n",
    "x_train, x_test, y_train, y_test = train_test_split(x, y, test_size = 0.1, random_state = 970731)\n",
    "x_train = x[:-1]\n",
    "y_train = y[:-1]\n",
    "x_test = x[-1]\n",
    "y_test = y[-1]\n",
    "model = xgb.XGBRegressor(seed=0, max_depth=6, eta=0.3, random_state=970731)\n",
    "model.fit(x_train, y_train)\n",
    "today_value = data.drop(['Date'], axis=1)\n",
    "today_value = data.drop(['Date'], axis=1)\n",
    "today_value = np.array(today_value)\n",
    "today_value = today_value[-1]\n",
    "today_value = today_value.reshape(1, -1)\n",
    "predict = model.predict(today_value)\n",
    "daily_samsung_data['예측상한가'] = int(predict)"
   ]
  },
  {
   "cell_type": "code",
   "execution_count": 81,
   "metadata": {},
   "outputs": [
    {
     "data": {
      "text/html": [
       "<div>\n",
       "<style scoped>\n",
       "    .dataframe tbody tr th:only-of-type {\n",
       "        vertical-align: middle;\n",
       "    }\n",
       "\n",
       "    .dataframe tbody tr th {\n",
       "        vertical-align: top;\n",
       "    }\n",
       "\n",
       "    .dataframe thead th {\n",
       "        text-align: right;\n",
       "    }\n",
       "</style>\n",
       "<table border=\"1\" class=\"dataframe\">\n",
       "  <thead>\n",
       "    <tr style=\"text-align: right;\">\n",
       "      <th></th>\n",
       "      <th>Date</th>\n",
       "      <th>시가</th>\n",
       "      <th>상한가</th>\n",
       "      <th>하한가</th>\n",
       "      <th>종가</th>\n",
       "      <th>거래량</th>\n",
       "      <th>등락률</th>\n",
       "      <th>감정</th>\n",
       "      <th>삼성 PBR</th>\n",
       "      <th>LG전자 PBR</th>\n",
       "      <th>SK하이닉스 PBR</th>\n",
       "      <th>삼성 PER</th>\n",
       "      <th>LG전자 PER</th>\n",
       "      <th>SK하이닉스 PER</th>\n",
       "      <th>예측종가</th>\n",
       "      <th>텍스트1</th>\n",
       "      <th>예측하한가</th>\n",
       "      <th>예측상한가</th>\n",
       "    </tr>\n",
       "  </thead>\n",
       "  <tbody>\n",
       "    <tr>\n",
       "      <th>594</th>\n",
       "      <td>2022-05-27</td>\n",
       "      <td>66700</td>\n",
       "      <td>66900</td>\n",
       "      <td>66200</td>\n",
       "      <td>66500</td>\n",
       "      <td>11346700</td>\n",
       "      <td>0.009105</td>\n",
       "      <td>3.015542</td>\n",
       "      <td>1.52</td>\n",
       "      <td>1.08</td>\n",
       "      <td>1.17</td>\n",
       "      <td>11.51</td>\n",
       "      <td>18.08</td>\n",
       "      <td>7.58</td>\n",
       "      <td>66297</td>\n",
       "      <td>⇩</td>\n",
       "      <td>65841</td>\n",
       "      <td>67121</td>\n",
       "    </tr>\n",
       "  </tbody>\n",
       "</table>\n",
       "</div>"
      ],
      "text/plain": [
       "           Date     시가    상한가    하한가     종가       거래량       등락률        감정  \\\n",
       "594  2022-05-27  66700  66900  66200  66500  11346700  0.009105  3.015542   \n",
       "\n",
       "     삼성 PBR  LG전자 PBR  SK하이닉스 PBR  삼성 PER  LG전자 PER  SK하이닉스 PER   예측종가 텍스트1  \\\n",
       "594    1.52      1.08        1.17   11.51     18.08        7.58  66297    ⇩   \n",
       "\n",
       "     예측하한가  예측상한가  \n",
       "594  65841  67121  "
      ]
     },
     "execution_count": 81,
     "metadata": {},
     "output_type": "execute_result"
    }
   ],
   "source": [
    "daily_samsung_data"
   ]
  },
  {
   "cell_type": "code",
   "execution_count": 82,
   "metadata": {},
   "outputs": [],
   "source": [
    "#데일리 삼성\n",
    "spreadsheet_url = 'https://docs.google.com/spreadsheets/d/1hVL4cJBJkqHi80YXCp45Yfv79_iVVmVPrPHzGAv5OCQ/edit#gid=0'\n",
    "\n",
    "# 스프레스시트 문서 가져오기 \n",
    "doc = gc.open_by_url(spreadsheet_url)\n",
    "\n",
    "# 시트 선택하기\n",
    "daily_samsung = doc.worksheet('시트1')"
   ]
  },
  {
   "cell_type": "code",
   "execution_count": 88,
   "metadata": {},
   "outputs": [],
   "source": [
    "from datetime import datetime"
   ]
  },
  {
   "cell_type": "code",
   "execution_count": 89,
   "metadata": {},
   "outputs": [],
   "source": [
    "day = datetime.today().strftime(\"%Y%m%d%H%M%S\")"
   ]
  },
  {
   "cell_type": "code",
   "execution_count": 91,
   "metadata": {},
   "outputs": [],
   "source": [
    "daily_samsung_data.to_csv(f\"samsung_predict{day}.csv\", encoding=\"UTF-8\")"
   ]
  },
  {
   "cell_type": "code",
   "execution_count": 83,
   "metadata": {},
   "outputs": [
    {
     "data": {
      "text/plain": [
       "{'spreadsheetId': '1hVL4cJBJkqHi80YXCp45Yfv79_iVVmVPrPHzGAv5OCQ',\n",
       " 'updatedRange': \"'시트1'!A1:R2\",\n",
       " 'updatedRows': 2,\n",
       " 'updatedColumns': 18,\n",
       " 'updatedCells': 36}"
      ]
     },
     "execution_count": 83,
     "metadata": {},
     "output_type": "execute_result"
    }
   ],
   "source": [
    "daily_samsung.update([daily_samsung_data.columns.values.tolist()] + daily_samsung_data.values.tolist())"
   ]
  },
  {
   "cell_type": "code",
   "execution_count": null,
   "metadata": {},
   "outputs": [],
   "source": []
  }
 ],
 "metadata": {
  "kernelspec": {
   "display_name": "Python 3",
   "language": "python",
   "name": "python3"
  },
  "language_info": {
   "codemirror_mode": {
    "name": "ipython",
    "version": 3
   },
   "file_extension": ".py",
   "mimetype": "text/x-python",
   "name": "python",
   "nbconvert_exporter": "python",
   "pygments_lexer": "ipython3",
   "version": "3.7.6"
  }
 },
 "nbformat": 4,
 "nbformat_minor": 4
}
